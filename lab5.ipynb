{
 "cells": [
  {
   "cell_type": "code",
   "execution_count": 1,
   "metadata": {},
   "outputs": [],
   "source": [
    "import spacy"
   ]
  },
  {
   "cell_type": "code",
   "execution_count": 2,
   "metadata": {},
   "outputs": [],
   "source": [
    "m = spacy.load('en_core_web_sm')"
   ]
  },
  {
   "cell_type": "code",
   "execution_count": 10,
   "metadata": {},
   "outputs": [],
   "source": [
    "text=''' Apple Inc. is an American multinational technology company headquartered in Cupertino, California, that designs, develops and sells consumer electronics, computer software, and online services. It is considered one of the Big Tech technology companies, alongside Amazon, Google, Microsoft, and Facebook.[8][9][10]\n",
    "\n",
    "The company's hardware products include the iPhone smartphone, the iPad tablet computer, the Mac personal computer, the iPod portable media player, the Apple Watch smartwatch, the Apple TV digital media player, the AirPods wireless earbuds and the HomePod smart speaker. Apple's software includes macOS, iOS, iPadOS, watchOS, and tvOS operating systems, the iTunes media player, the Safari web browser, the Shazam music identifier and the iLife and iWork creativity and productivity suites, as well as professional applications like Final Cut Pro, Logic Pro, and Xcode. Its online services include the iTunes Store, the iOS App Store, Mac App Store, Apple Music, Apple TV+, iMessage, and iCloud. Other services include Apple Store, Genius Bar, AppleCare, Apple Pay, Apple Pay Cash, and Apple Card.\n",
    "\n",
    "Apple was founded by Steve Jobs, Steve Wozniak, and Ronald Wayne in April 1976 to develop and sell Wozniak's Apple I personal computer, though Wayne sold his share back within 12 days. It was incorporated as Apple Computer, Inc., in January 1977, and sales of its computers, including the Apple II, grew quickly. Within a few years, Jobs and Wozniak had hired a staff of computer designers and had a production line. Apple went public in 1980 to instant financial success. Over the next few years, Apple shipped new computers featuring innovative graphical user interfaces, such as the original Macintosh in 1984, and Apple's marketing advertisements for its products received widespread critical acclaim. However, the high price of its products and limited application library caused problems, as did power struggles between executives. In 1985, Wozniak departed Apple amicably and remained an honorary employee,[11] while Jobs and others resigned to found NeXT'''\n",
    "doc=m(text)"
   ]
  },
  {
   "cell_type": "code",
   "execution_count": 12,
   "metadata": {},
   "outputs": [
    {
     "name": "stdout",
     "output_type": "stream",
     "text": [
      "Apple Inc. ORG\n",
      "American NORP\n",
      "Cupertino GPE\n",
      "California GPE\n",
      "Big Tech ORG\n",
      "Amazon ORG\n",
      "Google ORG\n",
      "Microsoft ORG\n",
      "iPhone ORG\n",
      "Mac ORG\n",
      "iPod ORG\n",
      "Apple Watch ORG\n",
      "Apple TV ORG\n",
      "AirPods ORG\n",
      "HomePod ORG\n",
      "Apple ORG\n",
      "watchOS PERSON\n",
      "tvOS ORG\n",
      "Safari NORP\n",
      "Shazam LOC\n",
      "iLife ORG\n",
      "Cut Pro PERSON\n",
      "Xcode PERSON\n",
      "the iTunes Store ORG\n",
      "the iOS App Store ORG\n",
      "Mac App Store PERSON\n",
      "Apple Music ORG\n",
      "Apple TV+, iMessage ORG\n",
      "iCloud ORG\n",
      "Apple Store ORG\n",
      "Genius Bar ORG\n",
      "AppleCare ORG\n",
      "Apple ORG\n",
      "Apple ORG\n",
      "Pay Cash PERSON\n",
      "Apple Card ORG\n",
      "Apple ORG\n",
      "Steve Jobs PERSON\n",
      "Steve Wozniak PERSON\n",
      "Ronald Wayne PERSON\n",
      "April 1976 DATE\n",
      "Wozniak PERSON\n",
      "Apple ORG\n",
      "Wayne PERSON\n",
      "12 days DATE\n",
      "Apple Computer, Inc. ORG\n",
      "January 1977 DATE\n",
      "the Apple II ORG\n",
      "a few years DATE\n",
      "Jobs ORG\n",
      "Wozniak PERSON\n",
      "Apple ORG\n",
      "1980 DATE\n",
      "the next few years DATE\n",
      "Apple ORG\n",
      "Macintosh ORG\n",
      "1984 DATE\n",
      "Apple ORG\n",
      "1985 DATE\n",
      "Wozniak PERSON\n",
      "Apple ORG\n",
      "Jobs ORG\n"
     ]
    }
   ],
   "source": [
    "for entity in doc.ents:\n",
    "    print(entity.text,entity.label_)"
   ]
  },
  {
   "cell_type": "code",
   "execution_count": 14,
   "metadata": {},
   "outputs": [],
   "source": [
    "#querying\n",
    "locs = [('Omnicom', 'IN', 'New York'),('DDB Needham', 'IN', 'New York'), ('Kaplan Thaler Group', 'IN', 'New York'),('BBDO South', 'IN', 'Atlanta'), ('Georgia-Pacific', 'IN', 'Atlanta')]"
   ]
  },
  {
   "cell_type": "code",
   "execution_count": 15,
   "metadata": {},
   "outputs": [],
   "source": [
    "query = [e1 for (e1, rel, e2) in locs if e2=='Atlanta']"
   ]
  },
  {
   "cell_type": "code",
   "execution_count": 16,
   "metadata": {},
   "outputs": [
    {
     "name": "stdout",
     "output_type": "stream",
     "text": [
      "['BBDO South', 'Georgia-Pacific']\n"
     ]
    }
   ],
   "source": [
    "print(query)"
   ]
  }
 ],
 "metadata": {
  "kernelspec": {
   "display_name": "Python 3",
   "language": "python",
   "name": "python3"
  },
  "language_info": {
   "codemirror_mode": {
    "name": "ipython",
    "version": 3
   },
   "file_extension": ".py",
   "mimetype": "text/x-python",
   "name": "python",
   "nbconvert_exporter": "python",
   "pygments_lexer": "ipython3",
   "version": "3.7.7"
  }
 },
 "nbformat": 4,
 "nbformat_minor": 4
}
