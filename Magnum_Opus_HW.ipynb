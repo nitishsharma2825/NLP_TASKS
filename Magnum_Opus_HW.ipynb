{
 "cells": [
  {
   "cell_type": "code",
   "execution_count": 3,
   "metadata": {},
   "outputs": [
    {
     "data": {
      "text/plain": [
       "['Food is any substance consumed to provide nutritional support for an organism. Food is usually of plant or animal origin, and contains essential nutrients, such as carbohydrates, fats, proteins, vitamins, or minerals. The substance is ingested by an organism and assimilated by the organism\\'s cells to provide energy, maintain life, or stimulate growth. Historically, humans secured food through two methods: hunting and gathering and agriculture, which gave modern humans a mainly omnivorous diet. Worldwide, humanity has created numerous cuisines and culinary arts, including a wide array of ingredients, herbs, spices, techniques, and dishes. Today, the majority of the food energy required by the ever-increasing population of the world is supplied by the food industry. Food safety and food security are monitored by agencies like the International Association for Food Protection, World Resources Institute, World Food Programme, Food and Agriculture Organization, and International Food Information Council. They address issues such as sustainability, biological diversity, climate change, nutritional economics, population growth, water supply, and access to food. The right to food is a human right derived from the International Covenant on Economic, Social and Cultural Rights (ICESCR), recognizing the \"right to an adequate standard of living, including adequate food\", as well as the \"fundamental right to be free from hunger\". Many plants and plant parts are eaten as food and around 2,000 plant species are cultivated for food. Many of these plant species have several distinct cultivars.Seeds of plants are a good source of food for animals, including humans, because they contain the nutrients necessary for the plant\\'s initial growth, including many healthful fats, such as omega fats. In fact, the majority of food consumed by human beings are seed-based foods. Edible seeds include cereals (corn, wheat, rice, et cetera), legumes (beans, peas, lentils, et cetera), and nuts. Oilseeds are often pressed to produce rich oils - sunflower, flaxseed, rapeseed (including canola oil), sesame, et cetera. Seeds are typically high in unsaturated fats and, in moderation, are considered a health food. However, not all seeds are edible. Large seeds, such as those from a lemon, pose a choking hazard, while seeds from cherries and apples contain cyanide which could be poisonous only if consumed in large volumes. Fruits are the ripened ovaries of plants, including the seeds within. Many plants and animals have coevolved such that the fruits of the former are an attractive food source to the latter, because animals that eat the fruits may excrete the seeds some distance away. Fruits, therefore, make up a significant part of the diets of most cultures. Some botanical fruits, such as tomatoes, pumpkins, and eggplants, are eaten as vegetables. (For more information, see list of fruits.) Vegetables are a second type of plant matter that is commonly eaten as food. These include root vegetables (potatoes and carrots), bulbs (onion family), leaf vegetables (spinach and lettuce), stem vegetables (bamboo shoots and asparagus), and inflorescence vegetables (globe artichokes and broccoli and other vegetables such as cabbage or cauliflower).']"
      ]
     },
     "execution_count": 3,
     "metadata": {},
     "output_type": "execute_result"
    }
   ],
   "source": [
    "file =open('Doc1.txt')\n",
    "my_lines_list1=file.readlines()\n",
    "my_lines_list1"
   ]
  },
  {
   "cell_type": "code",
   "execution_count": 5,
   "metadata": {},
   "outputs": [
    {
     "data": {
      "text/plain": [
       "['Dance is a performing art form consisting of purposefully selected sequences of human movement. This movement has aesthetic and symbolic value, and is acknowledged as dance by performers and observers within a particular culture. Dance can be categorized and described by its choreography, by its repertoire of movements, or by its historical period or place of origin. An important distinction is to be drawn between the contexts of theatrical and participatory dance, although these two categories are not always completely separate; both may have special functions, whether social, ceremonial, competitive, erotic, martial, or sacred/liturgical. Other forms of human movement are sometimes said to have a dance-like quality, including martial arts, gymnastics, cheerleading, figure skating, synchronised swimming, marching bands, and many other forms of athletics.Theatrical dance, also called performance or concert dance, is intended primarily as a spectacle, usually a performance upon a stage by virtuoso dancers. It often tells a story, perhaps using mime, costume and scenery, or else it may simply interpret the musical accompaniment, which is often specially composed. Examples are western ballet and modern dance, Classical Indian dance and Chinese and Japanese song and dance dramas. Most classical forms are centred upon dance alone, but performance dance may also appear in opera and other forms of musical theatre. Participatory dance, on the other hand, whether it be a folk dance, a social dance, a group dance such as a line, circle, chain or square dance, or a partner dance such as is common in western Western ballroom dancing, is undertaken primarily for a common purpose, such as social interaction or exercise, of participants rather than onlookers. Such dance seldom has any narrative. A group dance and a corps de ballet, a social partner dance and a pas de deux, differ profoundly. Even a solo dance may be undertaken solely for the satisfaction of the dancer. Participatory dancers often all employ the same movements and steps but, for example, in the rave culture of electronic dance music, vast crowds may engage in free dance, uncoordinated with those around them. On the other hand, some cultures lay down strict rules as to the particular dances in which, for example, men, women and children may or must participate.Archeological evidence for early dance includes 9,000-year-old paintings in India at the Rock Shelters of Bhimbetka, and Egyptian tomb paintings depicting dancing figures, dated c. 3300 BC. It has been proposed that before the invention of written languages, dance was an important part of the oral and performance methods of passing stories down from one generation to the next. The use of dance in ecstatic trance states and healing rituals (as observed today in many contemporary \"primitive\" cultures, from the Brazilian rainforest to the Kalahari Desert) is thought to have been another early factor in the social development of dance. References to dance can be found in very early recorded history; Greek dance (horos) is referred to by Plato, Aristotle, Plutarch and Lucian. The Bible and Talmud refer to many events related to dance, and contain over 30 different dance terms. In Chinese pottery as early as the Neolithic period, groups of people are depicted dancing in a line holding hands, and the earliest Chinese word for \"dance\" is found written in the oracle bones. Dance is further described in the LÃ¼shi Chunqiu. Primitive dance in ancient China was associated with sorcery and shamanic rituals.']"
      ]
     },
     "execution_count": 5,
     "metadata": {},
     "output_type": "execute_result"
    }
   ],
   "source": [
    "file=open('doc2.txt')\n",
    "my_lines_list2=file.readlines()\n",
    "my_lines_list2"
   ]
  },
  {
   "cell_type": "code",
   "execution_count": 6,
   "metadata": {},
   "outputs": [
    {
     "data": {
      "text/plain": [
       "[\"food is ani substanc consum to provid nutrit support for an organ . food is usual of plant or anim origin , and contain essenti nutrient , such as carbohydr , fat , protein , vitamin , or miner . the substanc is ingest by an organ and assimil by the organ 's cell to provid energi , maintain life , or stimul growth . histor , human secur food through two method : hunt and gather and agricultur , which gave modern human a mainli omnivor diet . worldwid , human ha creat numer cuisin and culinari art , includ a wide array of ingredi , herb , spice , techniqu , and dish . today , the major of the food energi requir by the ever-increas popul of the world is suppli by the food industri . food safeti and food secur are monitor by agenc like the intern associ for food protect , world resourc institut , world food programm , food and agricultur organ , and intern food inform council . they address issu such as sustain , biolog divers , climat chang , nutrit econom , popul growth , water suppli , and access to food . the right to food is a human right deriv from the intern coven on econom , social and cultur right ( icescr ) , recogn the `` right to an adequ standard of live , includ adequ food '' , as well as the `` fundament right to be free from hunger '' . mani plant and plant part are eaten as food and around 2,000 plant speci are cultiv for food . mani of these plant speci have sever distinct cultivars.se of plant are a good sourc of food for anim , includ human , becaus they contain the nutrient necessari for the plant 's initi growth , includ mani health fat , such as omega fat . In fact , the major of food consum by human be are seed-bas food . edibl seed includ cereal ( corn , wheat , rice , et cetera ) , legum ( bean , pea , lentil , et cetera ) , and nut . oilse are often press to produc rich oil - sunflow , flaxse , rapese ( includ canola oil ) , sesam , et cetera . seed are typic high in unsatur fat and , in moder , are consid a health food . howev , not all seed are edibl . larg seed , such as those from a lemon , pose a choke hazard , while seed from cherri and appl contain cyanid which could be poison onli if consum in larg volum . fruit are the ripen ovari of plant , includ the seed within . mani plant and anim have coevolv such that the fruit of the former are an attract food sourc to the latter , becaus anim that eat the fruit may excret the seed some distanc away . fruit , therefor , make up a signific part of the diet of most cultur . some botan fruit , such as tomato , pumpkin , and eggplant , are eaten as veget . ( for more inform , see list of fruit . ) veget are a second type of plant matter that is commonli eaten as food . these includ root veget ( potato and carrot ) , bulb ( onion famili ) , leaf veget ( spinach and lettuc ) , stem veget ( bamboo shoot and asparagu ) , and infloresc veget ( globe artichok and broccoli and other veget such as cabbag or cauliflow ) . \"]"
      ]
     },
     "execution_count": 6,
     "metadata": {},
     "output_type": "execute_result"
    }
   ],
   "source": [
    "from nltk.tokenize import sent_tokenize, word_tokenize\n",
    "from nltk.stem import PorterStemmer\n",
    "\n",
    "porter=PorterStemmer()\n",
    "\n",
    "def stemSentence(sentence):\n",
    "    token_words=word_tokenize(sentence)\n",
    "    token_words\n",
    "    stem_sentence=[]\n",
    "    for word in token_words:\n",
    "        stem_sentence.append(porter.stem(word))\n",
    "        stem_sentence.append(\" \")\n",
    "    return \"\".join(stem_sentence)\n",
    "stem_sentence_list1=[]\n",
    "stem_sentence_list2=[]\n",
    "for line in my_lines_list1:\n",
    "    stem_sentence=stemSentence(line)\n",
    "    stem_sentence_list1.append(stem_sentence);\n",
    "for line in my_lines_list2:\n",
    "    stem_sentence=stemSentence(line)\n",
    "    stem_sentence_list2.append(stem_sentence);   \n",
    "stem_sentence_list1"
   ]
  },
  {
   "cell_type": "code",
   "execution_count": 7,
   "metadata": {},
   "outputs": [
    {
     "data": {
      "text/plain": [
       "CountVectorizer(binary=True)"
      ]
     },
     "execution_count": 7,
     "metadata": {},
     "output_type": "execute_result"
    }
   ],
   "source": [
    "from sklearn.feature_extraction.text import CountVectorizer\n",
    "vect=CountVectorizer(binary=True)\n",
    "vect.fit(stem_sentence_list1)"
   ]
  },
  {
   "cell_type": "code",
   "execution_count": 8,
   "metadata": {},
   "outputs": [
    {
     "name": "stdout",
     "output_type": "stream",
     "text": [
      "[[0.46001984]]\n"
     ]
    }
   ],
   "source": [
    "from sklearn.metrics.pairwise import cosine_similarity\n",
    "similarity = cosine_similarity(vect.transform(stem_sentence_list1).toarray(), vect.transform(stem_sentence_list2).toarray())\n",
    "print(similarity)"
   ]
  },
  {
   "cell_type": "code",
   "execution_count": 9,
   "metadata": {},
   "outputs": [],
   "source": [
    "#Task 2\n",
    "file =open('Doc1.txt')\n",
    "my_lines_list1=file.readlines()"
   ]
  },
  {
   "cell_type": "code",
   "execution_count": 10,
   "metadata": {},
   "outputs": [],
   "source": [
    "file=open('doc2.txt')\n",
    "my_lines_list2=file.readlines()"
   ]
  },
  {
   "cell_type": "code",
   "execution_count": 11,
   "metadata": {},
   "outputs": [
    {
     "data": {
      "text/plain": [
       "CountVectorizer(binary=True)"
      ]
     },
     "execution_count": 11,
     "metadata": {},
     "output_type": "execute_result"
    }
   ],
   "source": [
    "from sklearn.feature_extraction.text import CountVectorizer\n",
    "vect=CountVectorizer(binary=True)\n",
    "vect.fit(my_lines_list1)"
   ]
  },
  {
   "cell_type": "code",
   "execution_count": 13,
   "metadata": {},
   "outputs": [
    {
     "name": "stdout",
     "output_type": "stream",
     "text": [
      "[[0.43495884]]\n"
     ]
    }
   ],
   "source": [
    "from sklearn.metrics.pairwise import cosine_similarity\n",
    "similarity = cosine_similarity(vect.transform(my_lines_list1).toarray(), vect.transform(my_lines_list2).toarray())\n",
    "print(similarity)"
   ]
  },
  {
   "cell_type": "markdown",
   "metadata": {},
   "source": [
    "In my example, the accuracy with stemming was more than accuracy without stemming."
   ]
  }
 ],
 "metadata": {
  "kernelspec": {
   "display_name": "Python 3",
   "language": "python",
   "name": "python3"
  },
  "language_info": {
   "codemirror_mode": {
    "name": "ipython",
    "version": 3
   },
   "file_extension": ".py",
   "mimetype": "text/x-python",
   "name": "python",
   "nbconvert_exporter": "python",
   "pygments_lexer": "ipython3",
   "version": "3.7.7"
  }
 },
 "nbformat": 4,
 "nbformat_minor": 4
}
